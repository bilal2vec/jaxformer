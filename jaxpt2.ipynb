{
 "metadata": {
  "language_info": {
   "codemirror_mode": {
    "name": "ipython",
    "version": 3
   },
   "file_extension": ".py",
   "mimetype": "text/x-python",
   "name": "python",
   "nbconvert_exporter": "python",
   "pygments_lexer": "ipython3",
   "version": "3.8.5-final"
  },
  "orig_nbformat": 2,
  "kernelspec": {
   "name": "python3",
   "display_name": "Python 3",
   "language": "python"
  }
 },
 "nbformat": 4,
 "nbformat_minor": 2,
 "cells": [
  {
   "cell_type": "code",
   "execution_count": 250,
   "metadata": {},
   "outputs": [],
   "source": [
    "import numpy as np\n",
    "from tqdm import tqdm\n",
    "\n",
    "import jax\n",
    "import jax.numpy as jnp\n",
    "\n",
    "import flax\n",
    "from flax import linen as nn"
   ]
  },
  {
   "cell_type": "code",
   "execution_count": 281,
   "metadata": {},
   "outputs": [],
   "source": [
    "class MultiHeadAttention(nn.Module):\n",
    "    seq_len: int\n",
    "    d_model: int\n",
    "    n_heads: int\n",
    "\n",
    "    @nn.compact\n",
    "    def __call__(self, q, k, v, mask=None):\n",
    "        seq_len = q.shape[0]\n",
    "        d_k = self.d_model // self.n_heads\n",
    "\n",
    "        q = nn.Dense(self.d_model)(q)\n",
    "        k = nn.Dense(self.d_model)(k)\n",
    "        v = nn.Dense(self.d_model)(v)\n",
    "\n",
    "        q = q.reshape((seq_len, self.n_heads, d_k)).transpose((1, 0, 2))\n",
    "        k = k.reshape((seq_len, self.n_heads, d_k)).transpose((1, 0, 2))\n",
    "        v = v.reshape((seq_len, self.n_heads, d_k)).transpose((1, 0, 2))\n",
    "\n",
    "        a = jnp.matmul(q, k.transpose((0, 2, 1))) / jnp.sqrt(d_k)\n",
    "\n",
    "        if mask is not None:\n",
    "            mask = jnp.where(mask, 0, -jnp.inf)\n",
    "            a += mask\n",
    "    \n",
    "        a = nn.softmax(a, axis=-1)\n",
    "        # a = nn.Dropout(0.1)(a)\n",
    "        a = jnp.matmul(a, v)\n",
    "\n",
    "        return a.transpose((1, 0, 2)).reshape(self.seq_len, self.d_model)"
   ]
  },
  {
   "cell_type": "code",
   "execution_count": 282,
   "metadata": {},
   "outputs": [],
   "source": [
    "class MLP(nn.Module):\n",
    "    d_model:\n",
    "\n",
    "    @nn.compact\n",
    "    def __call__(self, x):\n",
    "        x = nn.Dense(d_model * 4)(x)\n",
    "        x = nn.gelu(x)\n",
    "        x = nn.Dropout(0.1)(x)\n",
    "        x = nn.Dense(d_model)(x)\n",
    "\n",
    "        return x"
   ]
  },
  {
   "cell_type": "code",
   "execution_count": 283,
   "metadata": {},
   "outputs": [],
   "source": [
    "seq_len = 128\n",
    "d_model = 768\n",
    "n_heads = 8\n",
    "d_k = d_model // n_heads\n",
    "\n",
    "q = jnp.ones((seq_len, d_model))\n",
    "k = jnp.ones((seq_len, d_model))\n",
    "v = jnp.ones((seq_len, d_model))"
   ]
  },
  {
   "cell_type": "code",
   "execution_count": 284,
   "metadata": {},
   "outputs": [],
   "source": [
    "rng = jax.random.PRNGKey(42)\n",
    "\n",
    "init_multi_head = jnp.ones((seq_len, d_model), jnp.float32)\n",
    "\n",
    "variables_attention = MultiHeadAttention(seq_len, d_model, n_heads).init(rng, init_multi_head, init_multi_head, init_multi_head)"
   ]
  },
  {
   "cell_type": "code",
   "execution_count": 285,
   "metadata": {},
   "outputs": [],
   "source": [
    "mask = jnp.triu(jnp.ones((1, seq_len, seq_len)), k=1) == 0\n",
    "temp = jnp.ones((1, seq_len, seq_len))"
   ]
  },
  {
   "cell_type": "code",
   "execution_count": 286,
   "metadata": {},
   "outputs": [],
   "source": [
    "out = MultiHeadAttention(seq_len, d_model, n_heads).apply(variables_attention, q, k, v, mask)"
   ]
  },
  {
   "cell_type": "code",
   "execution_count": 287,
   "metadata": {},
   "outputs": [
    {
     "output_type": "execute_result",
     "data": {
      "text/plain": [
       "(128, 768)"
      ]
     },
     "metadata": {},
     "execution_count": 287
    }
   ],
   "source": [
    "out.shape"
   ]
  },
  {
   "cell_type": "code",
   "execution_count": null,
   "metadata": {},
   "outputs": [],
   "source": []
  }
 ]
}