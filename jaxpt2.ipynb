{
 "metadata": {
  "language_info": {
   "codemirror_mode": {
    "name": "ipython",
    "version": 3
   },
   "file_extension": ".py",
   "mimetype": "text/x-python",
   "name": "python",
   "nbconvert_exporter": "python",
   "pygments_lexer": "ipython3",
   "version": "3.8.5-final"
  },
  "orig_nbformat": 2,
  "kernelspec": {
   "name": "python3",
   "display_name": "Python 3",
   "language": "python"
  }
 },
 "nbformat": 4,
 "nbformat_minor": 2,
 "cells": [
  {
   "cell_type": "code",
   "execution_count": 1,
   "metadata": {},
   "outputs": [],
   "source": [
    "import numpy as np\n",
    "from tqdm import tqdm\n",
    "\n",
    "import jax\n",
    "import jax.numpy as jnp\n",
    "\n",
    "import flax\n",
    "from flax import linen as nn"
   ]
  },
  {
   "cell_type": "code",
   "execution_count": 287,
   "metadata": {},
   "outputs": [],
   "source": [
    "class MultiHeadSelfAttention(nn.Module):\n",
    "    seq_len: int\n",
    "    d_model: int\n",
    "    n_heads: int\n",
    "\n",
    "    @nn.compact\n",
    "    def __call__(self, x, mask, training):\n",
    "        seq_len = x.shape[0]\n",
    "        d_k = self.d_model // self.n_heads\n",
    "\n",
    "        q = nn.Dense(self.d_model)(x)\n",
    "        k = nn.Dense(self.d_model)(x)\n",
    "        v = nn.Dense(self.d_model)(x)\n",
    "\n",
    "        q = q.reshape((seq_len, self.n_heads, d_k)).transpose((1, 0, 2))\n",
    "        k = k.reshape((seq_len, self.n_heads, d_k)).transpose((1, 0, 2))\n",
    "        v = v.reshape((seq_len, self.n_heads, d_k)).transpose((1, 0, 2))\n",
    "\n",
    "        a = jnp.matmul(q, k.transpose((0, 2, 1))) / jnp.sqrt(d_k)\n",
    "\n",
    "        mask = jnp.where(mask, 0, -jnp.inf)\n",
    "        a += mask\n",
    "    \n",
    "        a = nn.softmax(a, axis=-1)\n",
    "        a = nn.Dropout(0.1)(a, deterministic=not training)\n",
    "        a = jnp.matmul(a, v)\n",
    "\n",
    "        return a.transpose((1, 0, 2)).reshape(self.seq_len, self.d_model)"
   ]
  },
  {
   "cell_type": "code",
   "execution_count": 288,
   "metadata": {},
   "outputs": [],
   "source": [
    "class MLP(nn.Module):\n",
    "    d_model: int\n",
    "\n",
    "    @nn.compact\n",
    "    def __call__(self, x, training):\n",
    "        x = nn.Dense(self.d_model * 4)(x)\n",
    "        x = nn.gelu(x)\n",
    "        x = nn.Dense(self.d_model)(x)\n",
    "        x = nn.Dropout(0.1)(x, deterministic=not training)\n",
    "\n",
    "        return x"
   ]
  },
  {
   "cell_type": "code",
   "execution_count": 289,
   "metadata": {},
   "outputs": [],
   "source": [
    "class Block(nn.Module):\n",
    "    seq_len: int\n",
    "    d_model: int\n",
    "    n_heads: int\n",
    "\n",
    "    @nn.compact\n",
    "    def __call__(self, x, mask, training):\n",
    "\n",
    "        x = x + MultiHeadSelfAttention(self.seq_len, self.d_model, self.n_heads)(nn.LayerNorm()(x), mask, training)\n",
    "        x = x + nn.Dropout(0.1)(MLP(self.d_model)(nn.LayerNorm()(x), training), deterministic=not training)\n",
    "\n",
    "        return x"
   ]
  },
  {
   "cell_type": "code",
   "execution_count": 290,
   "metadata": {},
   "outputs": [],
   "source": [
    "class GPT2(nn.Module):\n",
    "    seq_len: int\n",
    "    n_layers: int\n",
    "    vocab_size: int\n",
    "    d_model: int\n",
    "    n_heads: int\n",
    "\n",
    "    @nn.compact\n",
    "    def __call__(self, x, training=False):\n",
    "        position_ids = jnp.arange(start=0, stop=self.seq_len, step=1)\n",
    "        mask = jnp.triu(jnp.ones((1, self.seq_len, self.seq_len)), k=1) == 0\n",
    "\n",
    "        embeddings = nn.Embed(self.vocab_size, self.d_model)(x) + nn.Embed(self.seq_len, self.d_model)(position_ids)\n",
    "        x = nn.Dropout(0.1)(embeddings)\n",
    "        \n",
    "        for _ in range(self.n_layers):\n",
    "            x = Block(self.seq_len, self.d_model, self.n_heads)(x, mask, training)\n",
    "        \n",
    "        x = nn.LayerNorm()(x)\n",
    "        x = nn.Dense(self.vocab_size)(x)\n",
    "\n",
    "        return x"
   ]
  },
  {
   "cell_type": "code",
   "execution_count": 291,
   "metadata": {},
   "outputs": [],
   "source": [
    "seq_len = 128\n",
    "n_layers = 2\n",
    "vocab_size = 1024\n",
    "d_model = 768\n",
    "n_heads = 8\n",
    "\n",
    "d_k = d_model // n_heads\n",
    "\n",
    "x = jax.random.normal(rng, (seq_len, d_model))"
   ]
  },
  {
   "cell_type": "code",
   "execution_count": 292,
   "metadata": {},
   "outputs": [],
   "source": [
    "rng = jax.random.PRNGKey(42)\n",
    "rng, dropout_rng = jax.random.split(rng)\n",
    "\n",
    "mask = jnp.triu(jnp.ones((1, seq_len, seq_len)), k=1) == 0\n",
    "\n",
    "init = jnp.ones((seq_len, d_model), jnp.float32)\n",
    "\n",
    "init_gpt2 = jnp.array(1)#jnp.ones((seq_len), jnp.float32)\n",
    "\n",
    "# variables_attention = MultiHeadSelfAttention(seq_len, d_model, n_heads).init({'params': rng, 'dropout': dropout_rng}, init, mask, training=False)\n",
    "# variables_mlp = MLP(d_model).init({'params': rng, 'dropout': dropout_rng}, init, training=False)\n",
    "# variables_block = Block(seq_len, d_model, n_heads).init({'params': rng, 'dropout': dropout_rng}, init, mask, training=False)\n",
    "variables_gpt2 = GPT2(seq_len, n_layers, vocab_size, d_model, n_heads).init({'params': rng, 'dropout': dropout_rng}, init_gpt2, training=False)"
   ]
  },
  {
   "cell_type": "code",
   "execution_count": 172,
   "metadata": {},
   "outputs": [],
   "source": [
    "out = MultiHeadSelfAttention(seq_len, d_model, n_heads).apply(variables_attention, x, mask, training=True, rngs={'dropout': rng})"
   ]
  },
  {
   "cell_type": "code",
   "execution_count": 202,
   "metadata": {},
   "outputs": [],
   "source": [
    "out = MLP(d_model).apply(variables_mlp, out, training=True, rngs={'dropout': rng})"
   ]
  },
  {
   "cell_type": "code",
   "execution_count": 300,
   "metadata": {},
   "outputs": [
    {
     "output_type": "execute_result",
     "data": {
      "text/plain": [
       "0"
      ]
     },
     "metadata": {},
     "execution_count": 300
    }
   ],
   "source": [
    "out = Block(seq_len, d_model, n_heads).apply(variables_block, x, mask, training=True, rngs={'dropout': rng})"
   ]
  },
  {
   "cell_type": "code",
   "execution_count": 295,
   "metadata": {},
   "outputs": [],
   "source": [
    "out = GPT2(seq_len, n_layers, vocab_size, d_model, n_heads).apply(variables_gpt2, init_gpt2, training=False, rngs={'dropout': rng})"
   ]
  },
  {
   "cell_type": "code",
   "execution_count": 296,
   "metadata": {},
   "outputs": [
    {
     "output_type": "execute_result",
     "data": {
      "text/plain": [
       "(128, 1024)"
      ]
     },
     "metadata": {},
     "execution_count": 296
    }
   ],
   "source": [
    "out.shape"
   ]
  },
  {
   "cell_type": "code",
   "execution_count": 301,
   "metadata": {},
   "outputs": [
    {
     "output_type": "execute_result",
     "data": {
      "text/plain": [
       "DeviceArray([[-0.07671511, -1.7705754 ,  0.2934252 , ...,  1.9849722 ,\n",
       "              -2.142795  , -1.6366477 ],\n",
       "             [-1.7738787 , -0.36792904,  2.158223  , ...,  0.09209104,\n",
       "              -0.5125929 ,  1.3942482 ],\n",
       "             [-1.5357774 , -0.16519678,  0.7202017 , ..., -0.80888844,\n",
       "              -1.4017371 , -0.7294917 ],\n",
       "             ...,\n",
       "             [ 0.7833952 , -0.35864604, -0.6492446 , ..., -1.5745726 ,\n",
       "              -0.18905675, -0.5896662 ],\n",
       "             [ 0.49872887,  1.8160241 , -0.7537211 , ..., -1.7014841 ,\n",
       "              -1.2140181 ,  1.3204899 ],\n",
       "             [ 1.5718806 ,  0.09945551,  0.9722837 , ...,  0.93707865,\n",
       "              -2.2785974 ,  0.32326937]], dtype=float32)"
      ]
     },
     "metadata": {},
     "execution_count": 301
    }
   ],
   "source": [
    "out"
   ]
  }
 ]
}