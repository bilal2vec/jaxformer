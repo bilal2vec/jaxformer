{
 "metadata": {
  "language_info": {
   "codemirror_mode": {
    "name": "ipython",
    "version": 3
   },
   "file_extension": ".py",
   "mimetype": "text/x-python",
   "name": "python",
   "nbconvert_exporter": "python",
   "pygments_lexer": "ipython3",
   "version": "3.8.5-final"
  },
  "orig_nbformat": 2,
  "kernelspec": {
   "name": "python3",
   "display_name": "Python 3",
   "language": "python"
  }
 },
 "nbformat": 4,
 "nbformat_minor": 2,
 "cells": [
  {
   "cell_type": "code",
   "execution_count": 17,
   "metadata": {},
   "outputs": [],
   "source": [
    "from dataclasses import dataclass\n",
    "from functools import partial\n",
    "\n",
    "import numpy as np\n",
    "from tqdm import tqdm\n",
    "\n",
    "import jax\n",
    "import jax.numpy as jnp\n",
    "\n",
    "import flax\n",
    "from flax import linen as nn"
   ]
  },
  {
   "cell_type": "code",
   "execution_count": 2,
   "metadata": {},
   "outputs": [],
   "source": [
    "from tokenizers import Tokenizer, ByteLevelBPETokenizer\n",
    "files = [f\"./wikitext-2-raw/wiki.{split}.raw\" for split in [\"test\", \"train\", \"valid\"]]\n",
    "tokenizer = ByteLevelBPETokenizer()\n",
    "tokenizer.train(files, vocab_size=32768)\n",
    "tokenizer.save('./tokenizer.json')\n",
    "tokenizer = Tokenizer.from_file('./tokenizer.json')"
   ]
  },
  {
   "cell_type": "code",
   "execution_count": 3,
   "metadata": {},
   "outputs": [],
   "source": [
    "class MultiHeadSelfAttention(nn.Module):\n",
    "    d_model: int\n",
    "    n_heads: int\n",
    "\n",
    "    @nn.compact\n",
    "    def __call__(self, x, mask, training):\n",
    "        seq_len = x.shape[1]\n",
    "        d_k = self.d_model // self.n_heads\n",
    "\n",
    "        q = nn.Dense(self.d_model)(x)\n",
    "        k = nn.Dense(self.d_model)(x)\n",
    "        v = nn.Dense(self.d_model)(x)\n",
    "\n",
    "        q = q.reshape((-1, seq_len, self.n_heads, d_k)).transpose((0, 2, 1, 3))\n",
    "        k = k.reshape((-1, seq_len, self.n_heads, d_k)).transpose((0, 2, 1, 3))\n",
    "        v = v.reshape((-1, seq_len, self.n_heads, d_k)).transpose((0, 2, 1, 3))\n",
    "\n",
    "        a = jnp.matmul(q, k.transpose((0, 1, 3, 2))) / jnp.sqrt(d_k)\n",
    "\n",
    "        mask = jnp.where(mask, 0, -jnp.inf)\n",
    "        a += mask\n",
    "\n",
    "        a = nn.softmax(a, axis=-1)\n",
    "        a = nn.Dropout(0.1)(a, deterministic=not training)\n",
    "        a = jnp.matmul(a, v)\n",
    "\n",
    "        return a.transpose((0, 2, 1, 3)).reshape(-1, seq_len, self.d_model)\n",
    "\n",
    "\n",
    "class MLP(nn.Module):\n",
    "    d_model: int\n",
    "\n",
    "    @nn.compact\n",
    "    def __call__(self, x, training):\n",
    "        x = nn.Dense(self.d_model * 4)(x)\n",
    "        x = nn.gelu(x)\n",
    "        x = nn.Dense(self.d_model)(x)\n",
    "        x = nn.Dropout(0.1)(x, deterministic=not training)\n",
    "\n",
    "        return x\n",
    "\n",
    "\n",
    "class Block(nn.Module):\n",
    "    d_model: int\n",
    "    n_heads: int\n",
    "\n",
    "    @nn.compact\n",
    "    def __call__(self, x, mask, training):\n",
    "\n",
    "        x = x + MultiHeadSelfAttention(self.d_model,\n",
    "                                       self.n_heads)(nn.LayerNorm()(x), mask, training)\n",
    "        x = x + nn.Dropout(0.1)(MLP(self.d_model)(nn.LayerNorm()\n",
    "                                                  (x), training), deterministic=not training)\n",
    "\n",
    "        return x\n",
    "\n",
    "\n",
    "class GPT2(nn.Module):\n",
    "    config: dataclass\n",
    "\n",
    "    @nn.compact\n",
    "    def __call__(self, x, training=False):\n",
    "        seq_len = x.shape[-1]\n",
    "\n",
    "        position_ids = jnp.arange(start=0, stop=seq_len, step=1)\n",
    "        mask = jnp.triu(\n",
    "            jnp.ones((1, seq_len, seq_len)), k=1) == 0\n",
    "\n",
    "        content_embedding = nn.Embed(\n",
    "            self.config.vocab_size, self.config.d_model)\n",
    "        embeddings = content_embedding(\n",
    "            x) + nn.Embed(self.config.max_seq_len, self.config.d_model)(position_ids)\n",
    "        x = nn.Dropout(0.1)(embeddings)\n",
    "\n",
    "        for _ in range(self.config.n_layers):\n",
    "            x = Block(self.config.d_model, self.config.n_heads)(\n",
    "                x, mask, training)\n",
    "\n",
    "        x = nn.LayerNorm()(x)\n",
    "        x = content_embedding.attend(x)\n",
    "\n",
    "        return x"
   ]
  },
  {
   "cell_type": "code",
   "execution_count": 4,
   "metadata": {},
   "outputs": [],
   "source": [
    "@dataclass\n",
    "class Config:\n",
    "    fast: bool = False\n",
    "\n",
    "    batch_size: int = 1\n",
    "    epochs: int = 1\n",
    "\n",
    "    max_seq_len: int = 128\n",
    "    n_layers: int = 2\n",
    "    vocab_size: int = 32768\n",
    "    d_model: int = 768\n",
    "    n_heads: int = 8"
   ]
  },
  {
   "cell_type": "code",
   "execution_count": 5,
   "metadata": {},
   "outputs": [],
   "source": [
    "config = Config()"
   ]
  },
  {
   "cell_type": "code",
   "execution_count": 9,
   "metadata": {},
   "outputs": [],
   "source": [
    "rng = jax.random.PRNGKey(42)\n",
    "rng, dropout_rng = jax.random.split(rng)\n",
    "\n",
    "x = jax.random.randint(rng, (config.batch_size, config.max_seq_len), 0, 1000, jnp.int32)\n",
    "variables = GPT2(config).init({'params': rng, 'dropout': rng}, x, training=False)"
   ]
  },
  {
   "cell_type": "code",
   "execution_count": 11,
   "metadata": {},
   "outputs": [],
   "source": [
    "x = jax.random.randint(rng, (config.batch_size, 1), 0, 1000, jnp.int32)\n",
    "\n",
    "y_hat = GPT2(config).apply(variables, x, training=True, rngs={'dropout': rng})"
   ]
  },
  {
   "cell_type": "code",
   "execution_count": 12,
   "metadata": {},
   "outputs": [
    {
     "output_type": "execute_result",
     "data": {
      "text/plain": [
       "(1, 1, 32768)"
      ]
     },
     "metadata": {},
     "execution_count": 12
    }
   ],
   "source": [
    "y_hat.shape"
   ]
  },
  {
   "cell_type": "code",
   "execution_count": 45,
   "metadata": {},
   "outputs": [],
   "source": [
    "generated = tokenizer.encode(' ').ids"
   ]
  },
  {
   "cell_type": "code",
   "execution_count": 46,
   "metadata": {},
   "outputs": [
    {
     "output_type": "stream",
     "name": "stderr",
     "text": [
      "100%|██████████| 16/16 [00:42<00:00,  2.66s/it]\n",
      "\n",
      "Continuation:   Im ni slot resistance chail selected Ornette Sting Coward nucleoplasm Blonde Cruz � precisely rit Wheelchair\n",
      "\n"
     ]
    }
   ],
   "source": [
    "for i in tqdm(range(16)):\n",
    "    rng, _ = jax.random.split(rng, 2)\n",
    "\n",
    "    x = jnp.array(generated).reshape(1, -1)\n",
    "    logits = GPT2(config).apply(\n",
    "        variables, x, training=False, rngs={'dropout': rng})\n",
    "    preds = nn.softmax(logits, axis=-1)\n",
    "\n",
    "    next_token = jax.random.categorical(rng, preds[0, -1])\n",
    "    generated += [int(next_token)]\n",
    "\n",
    "# print(f'Dataset: {tokenizer.decode(batches[:config.seq_len])}')\n",
    "print(\"\\n\")\n",
    "print(f'Continuation: {tokenizer.decode(generated)}')\n"
   ]
  },
  {
   "cell_type": "code",
   "execution_count": 82,
   "metadata": {},
   "outputs": [
    {
     "output_type": "execute_result",
     "data": {
      "text/plain": [
       "(2, 1, 32768)"
      ]
     },
     "metadata": {},
     "execution_count": 82
    }
   ],
   "source": [
    "y_hat.shape"
   ]
  },
  {
   "cell_type": "code",
   "execution_count": null,
   "metadata": {},
   "outputs": [],
   "source": []
  }
 ]
}